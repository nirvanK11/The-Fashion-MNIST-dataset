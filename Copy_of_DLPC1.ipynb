{
  "cells": [
    {
      "cell_type": "markdown",
      "metadata": {
        "id": "view-in-github",
        "colab_type": "text"
      },
      "source": [
        "<a href=\"https://colab.research.google.com/github/nirvanK11/The-Fashion-MNIST-dataset/blob/main/Copy_of_DLPC1.ipynb\" target=\"_parent\"><img src=\"https://colab.research.google.com/assets/colab-badge.svg\" alt=\"Open In Colab\"/></a>"
      ]
    },
    {
      "cell_type": "code",
      "execution_count": null,
      "metadata": {
        "colab": {
          "base_uri": "https://localhost:8080/"
        },
        "id": "MwhWJ7t0jPSm",
        "outputId": "67a5dcbe-e1e0-4076-d65a-ee36dbc1c357"
      },
      "outputs": [
        {
          "name": "stdout",
          "output_type": "stream",
          "text": [
            "Collecting keras-tuner\n",
            "  Downloading keras_tuner-1.1.0-py3-none-any.whl (98 kB)\n",
            "\u001b[?25l\r\u001b[K     |███▍                            | 10 kB 18.5 MB/s eta 0:00:01\r\u001b[K     |██████▊                         | 20 kB 11.6 MB/s eta 0:00:01\r\u001b[K     |██████████                      | 30 kB 6.7 MB/s eta 0:00:01\r\u001b[K     |█████████████▍                  | 40 kB 6.0 MB/s eta 0:00:01\r\u001b[K     |████████████████▊               | 51 kB 2.7 MB/s eta 0:00:01\r\u001b[K     |████████████████████            | 61 kB 3.2 MB/s eta 0:00:01\r\u001b[K     |███████████████████████▍        | 71 kB 3.4 MB/s eta 0:00:01\r\u001b[K     |██████████████████████████▊     | 81 kB 3.6 MB/s eta 0:00:01\r\u001b[K     |██████████████████████████████  | 92 kB 4.0 MB/s eta 0:00:01\r\u001b[K     |████████████████████████████████| 98 kB 2.7 MB/s \n",
            "\u001b[?25hRequirement already satisfied: scipy in /usr/local/lib/python3.7/dist-packages (from keras-tuner) (1.4.1)\n",
            "Requirement already satisfied: ipython in /usr/local/lib/python3.7/dist-packages (from keras-tuner) (5.5.0)\n",
            "Requirement already satisfied: tensorboard in /usr/local/lib/python3.7/dist-packages (from keras-tuner) (2.8.0)\n",
            "Requirement already satisfied: numpy in /usr/local/lib/python3.7/dist-packages (from keras-tuner) (1.21.5)\n",
            "Requirement already satisfied: packaging in /usr/local/lib/python3.7/dist-packages (from keras-tuner) (21.3)\n",
            "Requirement already satisfied: requests in /usr/local/lib/python3.7/dist-packages (from keras-tuner) (2.23.0)\n",
            "Collecting kt-legacy\n",
            "  Downloading kt_legacy-1.0.4-py3-none-any.whl (9.6 kB)\n",
            "Requirement already satisfied: setuptools>=18.5 in /usr/local/lib/python3.7/dist-packages (from ipython->keras-tuner) (57.4.0)\n",
            "Requirement already satisfied: prompt-toolkit<2.0.0,>=1.0.4 in /usr/local/lib/python3.7/dist-packages (from ipython->keras-tuner) (1.0.18)\n",
            "Requirement already satisfied: simplegeneric>0.8 in /usr/local/lib/python3.7/dist-packages (from ipython->keras-tuner) (0.8.1)\n",
            "Requirement already satisfied: pickleshare in /usr/local/lib/python3.7/dist-packages (from ipython->keras-tuner) (0.7.5)\n",
            "Requirement already satisfied: traitlets>=4.2 in /usr/local/lib/python3.7/dist-packages (from ipython->keras-tuner) (5.1.1)\n",
            "Requirement already satisfied: pygments in /usr/local/lib/python3.7/dist-packages (from ipython->keras-tuner) (2.6.1)\n",
            "Requirement already satisfied: decorator in /usr/local/lib/python3.7/dist-packages (from ipython->keras-tuner) (4.4.2)\n",
            "Requirement already satisfied: pexpect in /usr/local/lib/python3.7/dist-packages (from ipython->keras-tuner) (4.8.0)\n",
            "Requirement already satisfied: six>=1.9.0 in /usr/local/lib/python3.7/dist-packages (from prompt-toolkit<2.0.0,>=1.0.4->ipython->keras-tuner) (1.15.0)\n",
            "Requirement already satisfied: wcwidth in /usr/local/lib/python3.7/dist-packages (from prompt-toolkit<2.0.0,>=1.0.4->ipython->keras-tuner) (0.2.5)\n",
            "Requirement already satisfied: pyparsing!=3.0.5,>=2.0.2 in /usr/local/lib/python3.7/dist-packages (from packaging->keras-tuner) (3.0.7)\n",
            "Requirement already satisfied: ptyprocess>=0.5 in /usr/local/lib/python3.7/dist-packages (from pexpect->ipython->keras-tuner) (0.7.0)\n",
            "Requirement already satisfied: chardet<4,>=3.0.2 in /usr/local/lib/python3.7/dist-packages (from requests->keras-tuner) (3.0.4)\n",
            "Requirement already satisfied: idna<3,>=2.5 in /usr/local/lib/python3.7/dist-packages (from requests->keras-tuner) (2.10)\n",
            "Requirement already satisfied: certifi>=2017.4.17 in /usr/local/lib/python3.7/dist-packages (from requests->keras-tuner) (2021.10.8)\n",
            "Requirement already satisfied: urllib3!=1.25.0,!=1.25.1,<1.26,>=1.21.1 in /usr/local/lib/python3.7/dist-packages (from requests->keras-tuner) (1.24.3)\n",
            "Requirement already satisfied: markdown>=2.6.8 in /usr/local/lib/python3.7/dist-packages (from tensorboard->keras-tuner) (3.3.6)\n",
            "Requirement already satisfied: wheel>=0.26 in /usr/local/lib/python3.7/dist-packages (from tensorboard->keras-tuner) (0.37.1)\n",
            "Requirement already satisfied: tensorboard-data-server<0.7.0,>=0.6.0 in /usr/local/lib/python3.7/dist-packages (from tensorboard->keras-tuner) (0.6.1)\n",
            "Requirement already satisfied: grpcio>=1.24.3 in /usr/local/lib/python3.7/dist-packages (from tensorboard->keras-tuner) (1.44.0)\n",
            "Requirement already satisfied: protobuf>=3.6.0 in /usr/local/lib/python3.7/dist-packages (from tensorboard->keras-tuner) (3.17.3)\n",
            "Requirement already satisfied: google-auth-oauthlib<0.5,>=0.4.1 in /usr/local/lib/python3.7/dist-packages (from tensorboard->keras-tuner) (0.4.6)\n",
            "Requirement already satisfied: werkzeug>=0.11.15 in /usr/local/lib/python3.7/dist-packages (from tensorboard->keras-tuner) (1.0.1)\n",
            "Requirement already satisfied: tensorboard-plugin-wit>=1.6.0 in /usr/local/lib/python3.7/dist-packages (from tensorboard->keras-tuner) (1.8.1)\n",
            "Requirement already satisfied: absl-py>=0.4 in /usr/local/lib/python3.7/dist-packages (from tensorboard->keras-tuner) (1.0.0)\n",
            "Requirement already satisfied: google-auth<3,>=1.6.3 in /usr/local/lib/python3.7/dist-packages (from tensorboard->keras-tuner) (1.35.0)\n",
            "Requirement already satisfied: cachetools<5.0,>=2.0.0 in /usr/local/lib/python3.7/dist-packages (from google-auth<3,>=1.6.3->tensorboard->keras-tuner) (4.2.4)\n",
            "Requirement already satisfied: pyasn1-modules>=0.2.1 in /usr/local/lib/python3.7/dist-packages (from google-auth<3,>=1.6.3->tensorboard->keras-tuner) (0.2.8)\n",
            "Requirement already satisfied: rsa<5,>=3.1.4 in /usr/local/lib/python3.7/dist-packages (from google-auth<3,>=1.6.3->tensorboard->keras-tuner) (4.8)\n",
            "Requirement already satisfied: requests-oauthlib>=0.7.0 in /usr/local/lib/python3.7/dist-packages (from google-auth-oauthlib<0.5,>=0.4.1->tensorboard->keras-tuner) (1.3.1)\n",
            "Requirement already satisfied: importlib-metadata>=4.4 in /usr/local/lib/python3.7/dist-packages (from markdown>=2.6.8->tensorboard->keras-tuner) (4.11.2)\n",
            "Requirement already satisfied: zipp>=0.5 in /usr/local/lib/python3.7/dist-packages (from importlib-metadata>=4.4->markdown>=2.6.8->tensorboard->keras-tuner) (3.7.0)\n",
            "Requirement already satisfied: typing-extensions>=3.6.4 in /usr/local/lib/python3.7/dist-packages (from importlib-metadata>=4.4->markdown>=2.6.8->tensorboard->keras-tuner) (3.10.0.2)\n",
            "Requirement already satisfied: pyasn1<0.5.0,>=0.4.6 in /usr/local/lib/python3.7/dist-packages (from pyasn1-modules>=0.2.1->google-auth<3,>=1.6.3->tensorboard->keras-tuner) (0.4.8)\n",
            "Requirement already satisfied: oauthlib>=3.0.0 in /usr/local/lib/python3.7/dist-packages (from requests-oauthlib>=0.7.0->google-auth-oauthlib<0.5,>=0.4.1->tensorboard->keras-tuner) (3.2.0)\n",
            "Installing collected packages: kt-legacy, keras-tuner\n",
            "Successfully installed keras-tuner-1.1.0 kt-legacy-1.0.4\n"
          ]
        }
      ],
      "source": [
        "# install the Keras-tuner library\n",
        "!pip install keras-tuner"
      ]
    },
    {
      "cell_type": "code",
      "execution_count": null,
      "metadata": {
        "colab": {
          "base_uri": "https://localhost:8080/"
        },
        "id": "ZLBGuCb9jQu2",
        "outputId": "c7b892c4-e684-4bda-befe-4da67d2ab5d7"
      },
      "outputs": [
        {
          "name": "stderr",
          "output_type": "stream",
          "text": [
            "/usr/local/lib/python3.7/dist-packages/ipykernel_launcher.py:2: DeprecationWarning: `import kerastuner` is deprecated, please use `import keras_tuner`.\n",
            "  \n"
          ]
        }
      ],
      "source": [
        "# import the library and refer to it as kt\n",
        "import kerastuner as kt"
      ]
    },
    {
      "cell_type": "code",
      "execution_count": null,
      "metadata": {
        "id": "aX1aljbuLz5S"
      },
      "outputs": [],
      "source": [
        "import numpy as np # linear algebra\n",
        "import pandas as pd # data processing, CSV file I/O (e.g. pd.read_csv)\n",
        "\n",
        "\n",
        "import matplotlib.pyplot as plt # plotting library\n",
        "%matplotlib inline\n",
        "from IPython.display import display\n",
        "from sklearn.preprocessing import normalize\n",
        "from sklearn.model_selection import train_test_split\n",
        "import tensorflow as tf\n",
        "from tensorflow.keras import utils\n",
        "from tensorflow.keras.models import Sequential\n",
        "from tensorflow.keras.layers import Dense\n",
        "import matplotlib.pyplot as plt\n",
        "from keras.models import Sequential\n",
        "from keras.layers import Dense , Activation, Dropout, Flatten\n",
        "from keras.utils import np_utils\n"
      ]
    },
    {
      "cell_type": "code",
      "execution_count": null,
      "metadata": {
        "id": "0pISU7WaUuHQ"
      },
      "outputs": [],
      "source": [
        "# import fashion mnist module\n",
        "from tensorflow.keras.datasets import fashion_mnist"
      ]
    },
    {
      "cell_type": "code",
      "execution_count": null,
      "metadata": {
        "colab": {
          "base_uri": "https://localhost:8080/"
        },
        "id": "VMWY45yyMNP7",
        "outputId": "10a6bdd4-1f8b-4651-c612-a1f195b463ec"
      },
      "outputs": [
        {
          "name": "stdout",
          "output_type": "stream",
          "text": [
            "Downloading data from https://storage.googleapis.com/tensorflow/tf-keras-datasets/train-labels-idx1-ubyte.gz\n",
            "32768/29515 [=================================] - 0s 0us/step\n",
            "40960/29515 [=========================================] - 0s 0us/step\n",
            "Downloading data from https://storage.googleapis.com/tensorflow/tf-keras-datasets/train-images-idx3-ubyte.gz\n",
            "26427392/26421880 [==============================] - 0s 0us/step\n",
            "26435584/26421880 [==============================] - 0s 0us/step\n",
            "Downloading data from https://storage.googleapis.com/tensorflow/tf-keras-datasets/t10k-labels-idx1-ubyte.gz\n",
            "16384/5148 [===============================================================================================] - 0s 0us/step\n",
            "Downloading data from https://storage.googleapis.com/tensorflow/tf-keras-datasets/t10k-images-idx3-ubyte.gz\n",
            "4423680/4422102 [==============================] - 0s 0us/step\n",
            "4431872/4422102 [==============================] - 0s 0us/step\n"
          ]
        }
      ],
      "source": [
        "# download fashion mnist data and split into train and test sets\n",
        "(x_train, y_train), (x_test, y_test) = fashion_mnist.load_data()"
      ]
    },
    {
      "cell_type": "markdown",
      "metadata": {
        "id": "2u4H4MQYOqa9"
      },
      "source": [
        "def load_data()\n",
        "Loads the Fashion-MNIST dataset.\n",
        "\n",
        "This is a dataset of 60,000 28x28 grayscale images of 10 fashion categories,\n",
        "along with a test set of 10,000 images. This dataset can be used as\n",
        "a drop-in replacement for MNIST.\n",
        "\n",
        "The classes are:\n",
        "\n",
        "Label\tDescription\n",
        "0\tT-shirt/top\n",
        "1\tTrouser\n",
        "2\tPullover\n",
        "3\tDress\n",
        "4\tCoat\n",
        "5\tSandal\n",
        "6\tShirt\n",
        "7\tSneaker\n",
        "8\tBag\n",
        "9\tAnkle boot\n"
      ]
    },
    {
      "cell_type": "code",
      "execution_count": null,
      "metadata": {
        "id": "IQTefUPCNIqr"
      },
      "outputs": [],
      "source": [
        "# data pre-processing - we need to reshape to specify a channel of 1 on the end of the\n",
        "# data to signify that there is one channel as it is a grayscale image\n",
        "x_train = x_train.reshape(60000,28,28,1)\n",
        "x_test = x_test.reshape(10000,28,28,1)\n",
        "\n",
        "# resize and normalize\n",
        "x_train = x_train.astype('float32') / 255.0\n",
        "x_test = x_test.astype('float32') / 255.0\n",
        "\n",
        "# one-hot encode the train and test target columns\n",
        "from tensorflow.keras.utils import to_categorical\n",
        "y_train = to_categorical(y_train)\n",
        "y_test = to_categorical(y_test)"
      ]
    },
    {
      "cell_type": "code",
      "execution_count": null,
      "metadata": {
        "id": "RbZPnO_FNSzO"
      },
      "outputs": [],
      "source": [
        "# create the model\n",
        "from keras.models import Sequential\n",
        "from keras.layers import Dense\n",
        "# create a regularizer object\n",
        "from tensorflow.keras import regularizers # import the regularizers module\n",
        "reg = regularizers.l2(l2=0.01)\n",
        "def model_builder(hp):\n",
        "  model = Sequential() \n",
        "  model.add(Flatten(input_shape=(28,28)))\n",
        "  hp_units = hp.Int('hidden_layer_1_units', min_value = 32, max_value = 512, step = 32)\n",
        "  model.add(Dense(hp_units, activation ='relu',kernel_regularizer=reg))\n",
        "  model.add(Dropout(0.2))\n",
        "  hp_units = hp.Int('hidden_layer_2_units', min_value = 64, max_value = 128, step = 32)\n",
        "  model.add(Dense(hp_units, activation ='relu',kernel_regularizer=reg))\n",
        "  model.add(Dropout(0.2))\n",
        "  model.add(Dense(units=30,activation ='relu'))\n",
        "  model.add(Dropout(0.2))\n",
        "  model.add(Dense(10, activation='softmax'))\n",
        "  model.summary()\n",
        "  # compiling the model\n",
        "  hp_learning_rate = hp.Choice('learning_rate', values = [1e-1,1e-2, 1e-3, 1e-4]) \n",
        "  # create the Adam optimiser, specifying the variable learning rate\n",
        "  opt = tf.keras.optimizers.Adam(learning_rate = hp_learning_rate)\n",
        "  model.compile(optimizer = opt, loss='categorical_crossentropy', metrics=['accuracy'])\n",
        "  return model"
      ]
    },
    {
      "cell_type": "code",
      "execution_count": null,
      "metadata": {
        "colab": {
          "base_uri": "https://localhost:8080/"
        },
        "id": "iTIVGZrVkFFZ",
        "outputId": "77cbc8ee-c27a-40c5-e6d0-84039d94f31c"
      },
      "outputs": [
        {
          "name": "stdout",
          "output_type": "stream",
          "text": [
            "Model: \"sequential\"\n",
            "_________________________________________________________________\n",
            " Layer (type)                Output Shape              Param #   \n",
            "=================================================================\n",
            " flatten (Flatten)           (None, 784)               0         \n",
            "                                                                 \n",
            " dense (Dense)               (None, 32)                25120     \n",
            "                                                                 \n",
            " dropout (Dropout)           (None, 32)                0         \n",
            "                                                                 \n",
            " dense_1 (Dense)             (None, 64)                2112      \n",
            "                                                                 \n",
            " dropout_1 (Dropout)         (None, 64)                0         \n",
            "                                                                 \n",
            " dense_2 (Dense)             (None, 30)                1950      \n",
            "                                                                 \n",
            " dropout_2 (Dropout)         (None, 30)                0         \n",
            "                                                                 \n",
            " dense_3 (Dense)             (None, 10)                310       \n",
            "                                                                 \n",
            "=================================================================\n",
            "Total params: 29,492\n",
            "Trainable params: 29,492\n",
            "Non-trainable params: 0\n",
            "_________________________________________________________________\n"
          ]
        }
      ],
      "source": [
        "# instatiate the tuner and perform hypertuning\n",
        "tuner = kt.Hyperband(model_builder,\n",
        "                     objective = 'val_accuracy', \n",
        "                     max_epochs = 10,\n",
        "                     factor = 3,        # factor is a number that determines how many models are created to run in parallel whaen testing the hyperparameters\n",
        "                     directory = 'my_dir',  # directory that the tuned hyperparameter results are stored in (change the name of this directory if you get the message INFO:tensorflow:Oracle triggered exit)\n",
        "                     project_name = 'intro_to_kt') "
      ]
    },
    {
      "cell_type": "markdown",
      "metadata": {
        "id": "58BKN6MRi_qI"
      },
      "source": [
        "Call back"
      ]
    },
    {
      "cell_type": "code",
      "execution_count": null,
      "metadata": {
        "id": "T49BIE3Fi3As"
      },
      "outputs": [],
      "source": [
        "# define a callback to clear the training outputs at the end of every training step\n",
        "class ClearTrainingOutput(tf.keras.callbacks.Callback):\n",
        "  def on_train_end(*args, **kwargs):\n",
        "    IPython.display.clear_output(wait = True)"
      ]
    },
    {
      "cell_type": "markdown",
      "metadata": {
        "id": "oVYC76o_jDq0"
      },
      "source": [
        "Hyperparameter tunning"
      ]
    },
    {
      "cell_type": "code",
      "execution_count": null,
      "metadata": {
        "colab": {
          "background_save": true,
          "base_uri": "https://localhost:8080/"
        },
        "id": "2yYFCcHZi5CQ",
        "outputId": "64d83eff-e76f-4e5f-d691-2839effedc35"
      },
      "outputs": [
        {
          "name": "stdout",
          "output_type": "stream",
          "text": [
            "Trial 30 Complete [00h 01m 59s]\n",
            "val_accuracy: 0.8489000201225281\n",
            "\n",
            "Best val_accuracy So Far: 0.8489000201225281\n",
            "Total elapsed time: 00h 31m 29s\n",
            "INFO:tensorflow:Oracle triggered exit\n"
          ]
        }
      ],
      "source": [
        "import IPython\n",
        "# run the hyperparameter search\n",
        "tuner.search(x_train, y_train, epochs = 15, validation_data = (x_test, y_test), callbacks = [ClearTrainingOutput()])"
      ]
    },
    {
      "cell_type": "code",
      "execution_count": null,
      "metadata": {
        "colab": {
          "background_save": true
        },
        "id": "6X84hJpOjGnT",
        "outputId": "356d5f9b-7d55-4133-d920-425d7becbfb6"
      },
      "outputs": [
        {
          "name": "stdout",
          "output_type": "stream",
          "text": [
            "{'hidden_layer_1_units': 256, 'hidden_layer_2_units': 96, 'learning_rate': 0.0001, 'tuner/epochs': 10, 'tuner/initial_epoch': 0, 'tuner/bracket': 0, 'tuner/round': 0}\n"
          ]
        }
      ],
      "source": [
        "# Get the optimal hyperparameters\n",
        "best_hps = tuner.get_best_hyperparameters()[0]\n",
        "print(best_hps.values)"
      ]
    },
    {
      "cell_type": "code",
      "execution_count": null,
      "metadata": {
        "colab": {
          "background_save": true
        },
        "id": "CeL4ECLzjIvx",
        "outputId": "60d0aba8-1a08-476d-86ac-094dd2a73729"
      },
      "outputs": [
        {
          "name": "stdout",
          "output_type": "stream",
          "text": [
            "Model: \"sequential_1\"\n",
            "_________________________________________________________________\n",
            " Layer (type)                Output Shape              Param #   \n",
            "=================================================================\n",
            " flatten_1 (Flatten)         (None, 784)               0         \n",
            "                                                                 \n",
            " dense_4 (Dense)             (None, 256)               200960    \n",
            "                                                                 \n",
            " dropout_3 (Dropout)         (None, 256)               0         \n",
            "                                                                 \n",
            " dense_5 (Dense)             (None, 96)                24672     \n",
            "                                                                 \n",
            " dropout_4 (Dropout)         (None, 96)                0         \n",
            "                                                                 \n",
            " dense_6 (Dense)             (None, 30)                2910      \n",
            "                                                                 \n",
            " dropout_5 (Dropout)         (None, 30)                0         \n",
            "                                                                 \n",
            " dense_7 (Dense)             (None, 10)                310       \n",
            "                                                                 \n",
            "=================================================================\n",
            "Total params: 228,852\n",
            "Trainable params: 228,852\n",
            "Non-trainable params: 0\n",
            "_________________________________________________________________\n",
            "Model: \"sequential_1\"\n",
            "_________________________________________________________________\n",
            " Layer (type)                Output Shape              Param #   \n",
            "=================================================================\n",
            " flatten_1 (Flatten)         (None, 784)               0         \n",
            "                                                                 \n",
            " dense_4 (Dense)             (None, 256)               200960    \n",
            "                                                                 \n",
            " dropout_3 (Dropout)         (None, 256)               0         \n",
            "                                                                 \n",
            " dense_5 (Dense)             (None, 96)                24672     \n",
            "                                                                 \n",
            " dropout_4 (Dropout)         (None, 96)                0         \n",
            "                                                                 \n",
            " dense_6 (Dense)             (None, 30)                2910      \n",
            "                                                                 \n",
            " dropout_5 (Dropout)         (None, 30)                0         \n",
            "                                                                 \n",
            " dense_7 (Dense)             (None, 10)                310       \n",
            "                                                                 \n",
            "=================================================================\n",
            "Total params: 228,852\n",
            "Trainable params: 228,852\n",
            "Non-trainable params: 0\n",
            "_________________________________________________________________\n"
          ]
        }
      ],
      "source": [
        "# apply the optimal hyperparameters to the model and print the summary\n",
        "model = tuner.hypermodel.build(best_hps)\n",
        "model.summary()"
      ]
    },
    {
      "cell_type": "code",
      "execution_count": null,
      "metadata": {
        "colab": {
          "background_save": true
        },
        "id": "SRFtJf5SjLM1",
        "outputId": "5f5d1cce-da5e-45cb-ebd0-3de783f84b13"
      },
      "outputs": [
        {
          "name": "stdout",
          "output_type": "stream",
          "text": [
            "Epoch 1/120\n",
            "1875/1875 [==============================] - 12s 6ms/step - loss: 3.3281 - accuracy: 0.6491 - val_loss: 1.6691 - val_accuracy: 0.7938\n",
            "Epoch 2/120\n",
            "1875/1875 [==============================] - 12s 6ms/step - loss: 1.3756 - accuracy: 0.7698 - val_loss: 0.9932 - val_accuracy: 0.8127\n",
            "Epoch 3/120\n",
            "1875/1875 [==============================] - 11s 6ms/step - loss: 0.9566 - accuracy: 0.7893 - val_loss: 0.7685 - val_accuracy: 0.8265\n",
            "Epoch 4/120\n",
            "1875/1875 [==============================] - 11s 6ms/step - loss: 0.8012 - accuracy: 0.8043 - val_loss: 0.6900 - val_accuracy: 0.8271\n",
            "Epoch 5/120\n",
            "1875/1875 [==============================] - 12s 6ms/step - loss: 0.7272 - accuracy: 0.8134 - val_loss: 0.6356 - val_accuracy: 0.8333\n",
            "Epoch 6/120\n",
            "1875/1875 [==============================] - 12s 6ms/step - loss: 0.6806 - accuracy: 0.8199 - val_loss: 0.6082 - val_accuracy: 0.8369\n",
            "Epoch 7/120\n",
            "1875/1875 [==============================] - 11s 6ms/step - loss: 0.6514 - accuracy: 0.8258 - val_loss: 0.5861 - val_accuracy: 0.8427\n",
            "Epoch 8/120\n",
            "1875/1875 [==============================] - 11s 6ms/step - loss: 0.6296 - accuracy: 0.8307 - val_loss: 0.5779 - val_accuracy: 0.8423\n",
            "Epoch 9/120\n",
            "1875/1875 [==============================] - 12s 6ms/step - loss: 0.6171 - accuracy: 0.8338 - val_loss: 0.5620 - val_accuracy: 0.8437\n",
            "Epoch 10/120\n",
            "1875/1875 [==============================] - 11s 6ms/step - loss: 0.6029 - accuracy: 0.8355 - val_loss: 0.5448 - val_accuracy: 0.8504\n",
            "Epoch 11/120\n",
            "1875/1875 [==============================] - 12s 6ms/step - loss: 0.5878 - accuracy: 0.8403 - val_loss: 0.5363 - val_accuracy: 0.8493\n",
            "Epoch 12/120\n",
            "1875/1875 [==============================] - 11s 6ms/step - loss: 0.5778 - accuracy: 0.8403 - val_loss: 0.5665 - val_accuracy: 0.8392\n",
            "Epoch 13/120\n",
            "1875/1875 [==============================] - 11s 6ms/step - loss: 0.5678 - accuracy: 0.8441 - val_loss: 0.5398 - val_accuracy: 0.8505\n",
            "Epoch 14/120\n",
            "1875/1875 [==============================] - 11s 6ms/step - loss: 0.5613 - accuracy: 0.8456 - val_loss: 0.5160 - val_accuracy: 0.8542\n",
            "Epoch 15/120\n",
            "1875/1875 [==============================] - 11s 6ms/step - loss: 0.5532 - accuracy: 0.8486 - val_loss: 0.5131 - val_accuracy: 0.8594\n",
            "Epoch 16/120\n",
            "1875/1875 [==============================] - 11s 6ms/step - loss: 0.5466 - accuracy: 0.8504 - val_loss: 0.5096 - val_accuracy: 0.8574\n",
            "Epoch 17/120\n",
            "1875/1875 [==============================] - 11s 6ms/step - loss: 0.5410 - accuracy: 0.8508 - val_loss: 0.5125 - val_accuracy: 0.8525\n",
            "Epoch 18/120\n",
            "1875/1875 [==============================] - 12s 6ms/step - loss: 0.5326 - accuracy: 0.8543 - val_loss: 0.5161 - val_accuracy: 0.8532\n",
            "Epoch 19/120\n",
            "1875/1875 [==============================] - 11s 6ms/step - loss: 0.5309 - accuracy: 0.8541 - val_loss: 0.5209 - val_accuracy: 0.8498\n",
            "Epoch 20/120\n",
            "1875/1875 [==============================] - 11s 6ms/step - loss: 0.5241 - accuracy: 0.8560 - val_loss: 0.5230 - val_accuracy: 0.8474\n",
            "Epoch 21/120\n",
            "1875/1875 [==============================] - 11s 6ms/step - loss: 0.5233 - accuracy: 0.8560 - val_loss: 0.5020 - val_accuracy: 0.8576\n",
            "Epoch 22/120\n",
            "1875/1875 [==============================] - 11s 6ms/step - loss: 0.5171 - accuracy: 0.8573 - val_loss: 0.4878 - val_accuracy: 0.8636\n",
            "Epoch 23/120\n",
            "1875/1875 [==============================] - 12s 6ms/step - loss: 0.5109 - accuracy: 0.8585 - val_loss: 0.4794 - val_accuracy: 0.8634\n",
            "Epoch 24/120\n",
            "1875/1875 [==============================] - 12s 6ms/step - loss: 0.5070 - accuracy: 0.8607 - val_loss: 0.4977 - val_accuracy: 0.8603\n",
            "Epoch 25/120\n",
            "1875/1875 [==============================] - 11s 6ms/step - loss: 0.5038 - accuracy: 0.8610 - val_loss: 0.4766 - val_accuracy: 0.8688\n",
            "Epoch 26/120\n",
            "1875/1875 [==============================] - 11s 6ms/step - loss: 0.5002 - accuracy: 0.8622 - val_loss: 0.4770 - val_accuracy: 0.8651\n",
            "Epoch 27/120\n",
            "1875/1875 [==============================] - 11s 6ms/step - loss: 0.4971 - accuracy: 0.8632 - val_loss: 0.4770 - val_accuracy: 0.8649\n",
            "Epoch 28/120\n",
            "1875/1875 [==============================] - 12s 6ms/step - loss: 0.4943 - accuracy: 0.8619 - val_loss: 0.4711 - val_accuracy: 0.8661\n",
            "Epoch 29/120\n",
            "1875/1875 [==============================] - 11s 6ms/step - loss: 0.4950 - accuracy: 0.8626 - val_loss: 0.4707 - val_accuracy: 0.8654\n",
            "Epoch 30/120\n",
            "1875/1875 [==============================] - 12s 6ms/step - loss: 0.4880 - accuracy: 0.8654 - val_loss: 0.4775 - val_accuracy: 0.8621\n",
            "Epoch 31/120\n",
            "1875/1875 [==============================] - 11s 6ms/step - loss: 0.4856 - accuracy: 0.8647 - val_loss: 0.4799 - val_accuracy: 0.8628\n",
            "Epoch 32/120\n",
            "1875/1875 [==============================] - 11s 6ms/step - loss: 0.4843 - accuracy: 0.8645 - val_loss: 0.4733 - val_accuracy: 0.8655\n",
            "Epoch 33/120\n",
            "1875/1875 [==============================] - 11s 6ms/step - loss: 0.4817 - accuracy: 0.8665 - val_loss: 0.4721 - val_accuracy: 0.8661\n",
            "Epoch 34/120\n",
            "1875/1875 [==============================] - 11s 6ms/step - loss: 0.4796 - accuracy: 0.8674 - val_loss: 0.4791 - val_accuracy: 0.8606\n",
            "Epoch 35/120\n",
            "1875/1875 [==============================] - 11s 6ms/step - loss: 0.4759 - accuracy: 0.8696 - val_loss: 0.4644 - val_accuracy: 0.8673\n",
            "Epoch 36/120\n",
            "1875/1875 [==============================] - 11s 6ms/step - loss: 0.4750 - accuracy: 0.8670 - val_loss: 0.4575 - val_accuracy: 0.8704\n",
            "Epoch 37/120\n",
            "1875/1875 [==============================] - 11s 6ms/step - loss: 0.4750 - accuracy: 0.8673 - val_loss: 0.4613 - val_accuracy: 0.8659\n",
            "Epoch 38/120\n",
            "1875/1875 [==============================] - 11s 6ms/step - loss: 0.4702 - accuracy: 0.8695 - val_loss: 0.4861 - val_accuracy: 0.8604\n",
            "Epoch 39/120\n",
            "1875/1875 [==============================] - 11s 6ms/step - loss: 0.4680 - accuracy: 0.8702 - val_loss: 0.4603 - val_accuracy: 0.8672\n",
            "Epoch 40/120\n",
            "1875/1875 [==============================] - 11s 6ms/step - loss: 0.4686 - accuracy: 0.8691 - val_loss: 0.4587 - val_accuracy: 0.8692\n",
            "Epoch 41/120\n",
            "1875/1875 [==============================] - 11s 6ms/step - loss: 0.4651 - accuracy: 0.8705 - val_loss: 0.4589 - val_accuracy: 0.8694\n",
            "Epoch 42/120\n",
            "1875/1875 [==============================] - 11s 6ms/step - loss: 0.4635 - accuracy: 0.8709 - val_loss: 0.4892 - val_accuracy: 0.8545\n",
            "Epoch 43/120\n",
            "1875/1875 [==============================] - 11s 6ms/step - loss: 0.4641 - accuracy: 0.8706 - val_loss: 0.4509 - val_accuracy: 0.8697\n",
            "Epoch 44/120\n",
            "1875/1875 [==============================] - 11s 6ms/step - loss: 0.4613 - accuracy: 0.8699 - val_loss: 0.4490 - val_accuracy: 0.8705\n",
            "Epoch 45/120\n",
            "1875/1875 [==============================] - 11s 6ms/step - loss: 0.4611 - accuracy: 0.8726 - val_loss: 0.4544 - val_accuracy: 0.8699\n",
            "Epoch 46/120\n",
            "1875/1875 [==============================] - 12s 6ms/step - loss: 0.4568 - accuracy: 0.8722 - val_loss: 0.4686 - val_accuracy: 0.8645\n",
            "Epoch 47/120\n",
            "1875/1875 [==============================] - 12s 6ms/step - loss: 0.4588 - accuracy: 0.8726 - val_loss: 0.4493 - val_accuracy: 0.8708\n",
            "Epoch 48/120\n",
            "1875/1875 [==============================] - 11s 6ms/step - loss: 0.4561 - accuracy: 0.8721 - val_loss: 0.4552 - val_accuracy: 0.8695\n",
            "Epoch 49/120\n",
            "1875/1875 [==============================] - 11s 6ms/step - loss: 0.4541 - accuracy: 0.8737 - val_loss: 0.4738 - val_accuracy: 0.8628\n",
            "Epoch 50/120\n",
            "1875/1875 [==============================] - 11s 6ms/step - loss: 0.4537 - accuracy: 0.8737 - val_loss: 0.4439 - val_accuracy: 0.8753\n",
            "Epoch 51/120\n",
            "1875/1875 [==============================] - 11s 6ms/step - loss: 0.4510 - accuracy: 0.8735 - val_loss: 0.4750 - val_accuracy: 0.8612\n",
            "Epoch 52/120\n",
            "1875/1875 [==============================] - 11s 6ms/step - loss: 0.4510 - accuracy: 0.8755 - val_loss: 0.4448 - val_accuracy: 0.8709\n",
            "Epoch 53/120\n",
            "1875/1875 [==============================] - 11s 6ms/step - loss: 0.4501 - accuracy: 0.8733 - val_loss: 0.4683 - val_accuracy: 0.8660\n",
            "Epoch 54/120\n",
            "1875/1875 [==============================] - 11s 6ms/step - loss: 0.4486 - accuracy: 0.8747 - val_loss: 0.4387 - val_accuracy: 0.8741\n",
            "Epoch 55/120\n",
            "1875/1875 [==============================] - 11s 6ms/step - loss: 0.4463 - accuracy: 0.8754 - val_loss: 0.4499 - val_accuracy: 0.8715\n",
            "Epoch 56/120\n",
            "1875/1875 [==============================] - 11s 6ms/step - loss: 0.4463 - accuracy: 0.8756 - val_loss: 0.4516 - val_accuracy: 0.8688\n",
            "Epoch 57/120\n",
            "1875/1875 [==============================] - 11s 6ms/step - loss: 0.4441 - accuracy: 0.8760 - val_loss: 0.4408 - val_accuracy: 0.8707\n",
            "Epoch 58/120\n",
            "1875/1875 [==============================] - 11s 6ms/step - loss: 0.4437 - accuracy: 0.8758 - val_loss: 0.4399 - val_accuracy: 0.8722\n",
            "Epoch 59/120\n",
            "1875/1875 [==============================] - 11s 6ms/step - loss: 0.4444 - accuracy: 0.8759 - val_loss: 0.4531 - val_accuracy: 0.8671\n",
            "Epoch 60/120\n",
            "1875/1875 [==============================] - 11s 6ms/step - loss: 0.4444 - accuracy: 0.8759 - val_loss: 0.4481 - val_accuracy: 0.8717\n",
            "Epoch 61/120\n",
            "1875/1875 [==============================] - 11s 6ms/step - loss: 0.4380 - accuracy: 0.8781 - val_loss: 0.4391 - val_accuracy: 0.8742\n",
            "Epoch 62/120\n",
            "1875/1875 [==============================] - 10s 6ms/step - loss: 0.4404 - accuracy: 0.8756 - val_loss: 0.4347 - val_accuracy: 0.8768\n",
            "Epoch 63/120\n",
            "1875/1875 [==============================] - 11s 6ms/step - loss: 0.4378 - accuracy: 0.8773 - val_loss: 0.4421 - val_accuracy: 0.8748\n",
            "Epoch 64/120\n",
            "1875/1875 [==============================] - 10s 6ms/step - loss: 0.4388 - accuracy: 0.8776 - val_loss: 0.4308 - val_accuracy: 0.8773\n",
            "Epoch 65/120\n",
            "1875/1875 [==============================] - 10s 6ms/step - loss: 0.4373 - accuracy: 0.8759 - val_loss: 0.4315 - val_accuracy: 0.8750\n",
            "Epoch 66/120\n",
            "1875/1875 [==============================] - 11s 6ms/step - loss: 0.4369 - accuracy: 0.8770 - val_loss: 0.4420 - val_accuracy: 0.8704\n",
            "Epoch 67/120\n",
            "1875/1875 [==============================] - 11s 6ms/step - loss: 0.4367 - accuracy: 0.8781 - val_loss: 0.4442 - val_accuracy: 0.8706\n",
            "Epoch 68/120\n",
            "1875/1875 [==============================] - 11s 6ms/step - loss: 0.4361 - accuracy: 0.8772 - val_loss: 0.4433 - val_accuracy: 0.8732\n",
            "Epoch 69/120\n",
            "1875/1875 [==============================] - 12s 6ms/step - loss: 0.4354 - accuracy: 0.8781 - val_loss: 0.4355 - val_accuracy: 0.8753\n",
            "Epoch 70/120\n",
            "1875/1875 [==============================] - 11s 6ms/step - loss: 0.4356 - accuracy: 0.8783 - val_loss: 0.4435 - val_accuracy: 0.8721\n",
            "Epoch 71/120\n",
            "1875/1875 [==============================] - 11s 6ms/step - loss: 0.4324 - accuracy: 0.8777 - val_loss: 0.4533 - val_accuracy: 0.8694\n",
            "Epoch 72/120\n",
            "1875/1875 [==============================] - 11s 6ms/step - loss: 0.4350 - accuracy: 0.8769 - val_loss: 0.4230 - val_accuracy: 0.8784\n",
            "Epoch 73/120\n",
            "1875/1875 [==============================] - 11s 6ms/step - loss: 0.4338 - accuracy: 0.8784 - val_loss: 0.4316 - val_accuracy: 0.8781\n",
            "Epoch 74/120\n",
            "1875/1875 [==============================] - 11s 6ms/step - loss: 0.4344 - accuracy: 0.8782 - val_loss: 0.4358 - val_accuracy: 0.8778\n",
            "Epoch 75/120\n",
            "1875/1875 [==============================] - 11s 6ms/step - loss: 0.4326 - accuracy: 0.8782 - val_loss: 0.4437 - val_accuracy: 0.8736\n",
            "Epoch 76/120\n",
            "1875/1875 [==============================] - 11s 6ms/step - loss: 0.4292 - accuracy: 0.8789 - val_loss: 0.4294 - val_accuracy: 0.8790\n",
            "Epoch 77/120\n",
            "1875/1875 [==============================] - 11s 6ms/step - loss: 0.4297 - accuracy: 0.8792 - val_loss: 0.4313 - val_accuracy: 0.8735\n",
            "Epoch 78/120\n",
            "1875/1875 [==============================] - 11s 6ms/step - loss: 0.4267 - accuracy: 0.8816 - val_loss: 0.4635 - val_accuracy: 0.8669\n",
            "Epoch 79/120\n",
            "1875/1875 [==============================] - 11s 6ms/step - loss: 0.4266 - accuracy: 0.8796 - val_loss: 0.4284 - val_accuracy: 0.8751\n",
            "Epoch 80/120\n",
            "1875/1875 [==============================] - 11s 6ms/step - loss: 0.4267 - accuracy: 0.8808 - val_loss: 0.4431 - val_accuracy: 0.8712\n",
            "Epoch 81/120\n",
            "1875/1875 [==============================] - 10s 6ms/step - loss: 0.4259 - accuracy: 0.8799 - val_loss: 0.4260 - val_accuracy: 0.8750\n",
            "Epoch 82/120\n",
            "1875/1875 [==============================] - 10s 5ms/step - loss: 0.4248 - accuracy: 0.8809 - val_loss: 0.4361 - val_accuracy: 0.8733\n",
            "Epoch 83/120\n",
            "1875/1875 [==============================] - 11s 6ms/step - loss: 0.4266 - accuracy: 0.8802 - val_loss: 0.4307 - val_accuracy: 0.8771\n",
            "Epoch 84/120\n",
            "1875/1875 [==============================] - 11s 6ms/step - loss: 0.4261 - accuracy: 0.8818 - val_loss: 0.4328 - val_accuracy: 0.8746\n",
            "Epoch 85/120\n",
            "1875/1875 [==============================] - 11s 6ms/step - loss: 0.4256 - accuracy: 0.8813 - val_loss: 0.4362 - val_accuracy: 0.8712\n",
            "Epoch 86/120\n",
            "1875/1875 [==============================] - 11s 6ms/step - loss: 0.4253 - accuracy: 0.8814 - val_loss: 0.4283 - val_accuracy: 0.8739\n",
            "Epoch 87/120\n",
            "1875/1875 [==============================] - 11s 6ms/step - loss: 0.4277 - accuracy: 0.8799 - val_loss: 0.4300 - val_accuracy: 0.8760\n",
            "Epoch 88/120\n",
            "1875/1875 [==============================] - 11s 6ms/step - loss: 0.4247 - accuracy: 0.8806 - val_loss: 0.4517 - val_accuracy: 0.8725\n",
            "Epoch 89/120\n",
            "1875/1875 [==============================] - 11s 6ms/step - loss: 0.4208 - accuracy: 0.8823 - val_loss: 0.4287 - val_accuracy: 0.8776\n",
            "Epoch 90/120\n",
            "1875/1875 [==============================] - 12s 7ms/step - loss: 0.4236 - accuracy: 0.8821 - val_loss: 0.4138 - val_accuracy: 0.8816\n",
            "Epoch 91/120\n",
            "1875/1875 [==============================] - 13s 7ms/step - loss: 0.4194 - accuracy: 0.8810 - val_loss: 0.4230 - val_accuracy: 0.8781\n",
            "Epoch 92/120\n",
            "1875/1875 [==============================] - 11s 6ms/step - loss: 0.4192 - accuracy: 0.8832 - val_loss: 0.4315 - val_accuracy: 0.8765\n",
            "Epoch 93/120\n",
            "1875/1875 [==============================] - 11s 6ms/step - loss: 0.4188 - accuracy: 0.8821 - val_loss: 0.4269 - val_accuracy: 0.8789\n",
            "Epoch 94/120\n",
            "1875/1875 [==============================] - 11s 6ms/step - loss: 0.4212 - accuracy: 0.8806 - val_loss: 0.4214 - val_accuracy: 0.8784\n",
            "Epoch 95/120\n",
            "1875/1875 [==============================] - 11s 6ms/step - loss: 0.4185 - accuracy: 0.8824 - val_loss: 0.4330 - val_accuracy: 0.8730\n",
            "Epoch 96/120\n",
            "1875/1875 [==============================] - 11s 6ms/step - loss: 0.4227 - accuracy: 0.8803 - val_loss: 0.4184 - val_accuracy: 0.8788\n",
            "Epoch 97/120\n",
            "1875/1875 [==============================] - 11s 6ms/step - loss: 0.4205 - accuracy: 0.8829 - val_loss: 0.4203 - val_accuracy: 0.8792\n",
            "Epoch 98/120\n",
            "1875/1875 [==============================] - 11s 6ms/step - loss: 0.4178 - accuracy: 0.8823 - val_loss: 0.4393 - val_accuracy: 0.8711\n",
            "Epoch 99/120\n",
            "1875/1875 [==============================] - 12s 6ms/step - loss: 0.4181 - accuracy: 0.8821 - val_loss: 0.4256 - val_accuracy: 0.8746\n",
            "Epoch 100/120\n",
            "1875/1875 [==============================] - 11s 6ms/step - loss: 0.4182 - accuracy: 0.8817 - val_loss: 0.4476 - val_accuracy: 0.8701\n",
            "Epoch 101/120\n",
            "1875/1875 [==============================] - 11s 6ms/step - loss: 0.4160 - accuracy: 0.8833 - val_loss: 0.4253 - val_accuracy: 0.8735\n",
            "Epoch 102/120\n",
            "1875/1875 [==============================] - 11s 6ms/step - loss: 0.4130 - accuracy: 0.8842 - val_loss: 0.4240 - val_accuracy: 0.8788\n",
            "Epoch 103/120\n",
            "1875/1875 [==============================] - 11s 6ms/step - loss: 0.4156 - accuracy: 0.8822 - val_loss: 0.4203 - val_accuracy: 0.8780\n",
            "Epoch 104/120\n",
            "1875/1875 [==============================] - 11s 6ms/step - loss: 0.4180 - accuracy: 0.8821 - val_loss: 0.4249 - val_accuracy: 0.8747\n",
            "Epoch 105/120\n",
            "1875/1875 [==============================] - 12s 6ms/step - loss: 0.4147 - accuracy: 0.8837 - val_loss: 0.4444 - val_accuracy: 0.8685\n",
            "Epoch 106/120\n",
            "1875/1875 [==============================] - 11s 6ms/step - loss: 0.4131 - accuracy: 0.8852 - val_loss: 0.4285 - val_accuracy: 0.8766\n",
            "Epoch 107/120\n",
            "1875/1875 [==============================] - 12s 6ms/step - loss: 0.4135 - accuracy: 0.8841 - val_loss: 0.4294 - val_accuracy: 0.8764\n",
            "Epoch 108/120\n",
            "1875/1875 [==============================] - 11s 6ms/step - loss: 0.4159 - accuracy: 0.8830 - val_loss: 0.4196 - val_accuracy: 0.8764\n",
            "Epoch 109/120\n",
            "1875/1875 [==============================] - 12s 6ms/step - loss: 0.4128 - accuracy: 0.8857 - val_loss: 0.4345 - val_accuracy: 0.8717\n",
            "Epoch 110/120\n",
            "1875/1875 [==============================] - 11s 6ms/step - loss: 0.4127 - accuracy: 0.8856 - val_loss: 0.4311 - val_accuracy: 0.8754\n",
            "Epoch 111/120\n",
            "1875/1875 [==============================] - 11s 6ms/step - loss: 0.4163 - accuracy: 0.8830 - val_loss: 0.4207 - val_accuracy: 0.8749\n",
            "Epoch 112/120\n",
            "1875/1875 [==============================] - 12s 6ms/step - loss: 0.4115 - accuracy: 0.8845 - val_loss: 0.4527 - val_accuracy: 0.8646\n",
            "Epoch 113/120\n",
            "1875/1875 [==============================] - 12s 6ms/step - loss: 0.4130 - accuracy: 0.8840 - val_loss: 0.4184 - val_accuracy: 0.8785\n",
            "Epoch 114/120\n",
            "1875/1875 [==============================] - 11s 6ms/step - loss: 0.4118 - accuracy: 0.8846 - val_loss: 0.4198 - val_accuracy: 0.8781\n",
            "Epoch 115/120\n",
            "1875/1875 [==============================] - 11s 6ms/step - loss: 0.4132 - accuracy: 0.8841 - val_loss: 0.4431 - val_accuracy: 0.8713\n",
            "Epoch 116/120\n",
            "1875/1875 [==============================] - 12s 6ms/step - loss: 0.4106 - accuracy: 0.8856 - val_loss: 0.4204 - val_accuracy: 0.8773\n",
            "Epoch 117/120\n",
            "1875/1875 [==============================] - 12s 6ms/step - loss: 0.4111 - accuracy: 0.8842 - val_loss: 0.4263 - val_accuracy: 0.8788\n",
            "Epoch 118/120\n",
            "1875/1875 [==============================] - 11s 6ms/step - loss: 0.4119 - accuracy: 0.8832 - val_loss: 0.4203 - val_accuracy: 0.8799\n",
            "Epoch 119/120\n",
            "1875/1875 [==============================] - 11s 6ms/step - loss: 0.4116 - accuracy: 0.8852 - val_loss: 0.4222 - val_accuracy: 0.8788\n",
            "Epoch 120/120\n",
            "1875/1875 [==============================] - 11s 6ms/step - loss: 0.4093 - accuracy: 0.8839 - val_loss: 0.4305 - val_accuracy: 0.8730\n"
          ]
        }
      ],
      "source": [
        "# retrain the model with the optimum hyperparameters and train it on the data\n",
        "history = model.fit(x_train, y_train, epochs = 120, validation_data = (x_test, y_test))"
      ]
    },
    {
      "cell_type": "code",
      "execution_count": null,
      "metadata": {
        "colab": {
          "background_save": true
        },
        "id": "n4pxlBiKOIWj",
        "outputId": "2abac4f1-fd97-4a41-f6b3-5490e13f9c05"
      },
      "outputs": [
        {
          "data": {
            "image/png": "[encoded data removed]",
            "text/plain": [
              "<Figure size 432x288 with 1 Axes>"
            ]
          },
          "metadata": {},
          "output_type": "display_data"
        },
        {
          "data": {
            "image/png": "[encoded data removed]",
            "text/plain": [
              "<Figure size 432x288 with 1 Axes>"
            ]
          },
          "metadata": {},
          "output_type": "display_data"
        }
      ],
      "source": [
        "# plot the history of the training\n",
        "import matplotlib.pyplot as plt\n",
        "\n",
        "# summarize the history for accuracy\n",
        "plt.plot(history.history['accuracy'])\n",
        "plt.plot(history.history['val_accuracy'])\n",
        "plt.title('model accuracy')\n",
        "plt.ylabel('accuracy')\n",
        "plt.xlabel('epoch')\n",
        "plt.legend(['train','test'], loc='upper left')\n",
        "plt.show()\n",
        "\n",
        "# summarize the history for loss\n",
        "plt.plot(history.history['loss'])\n",
        "plt.plot(history.history['val_loss'])\n",
        "plt.title('model loss')\n",
        "plt.ylabel('loss')\n",
        "plt.xlabel('epoch')\n",
        "plt.legend(['train','test'], loc='upper left')\n",
        "plt.show()"
      ]
    }
  ],
  "metadata": {
    "accelerator": "GPU",
    "colab": {
      "collapsed_sections": [],
      "provenance": [],
      "include_colab_link": true
    },
    "kernelspec": {
      "display_name": "Python 3",
      "name": "python3"
    },
    "language_info": {
      "name": "python"
    }
  },
  "nbformat": 4,
  "nbformat_minor": 0
}